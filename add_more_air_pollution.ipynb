{
 "cells": [
  {
   "cell_type": "code",
   "execution_count": 3,
   "id": "initial_id",
   "metadata": {
    "collapsed": true,
    "ExecuteTime": {
     "end_time": "2024-10-07T08:29:30.534733600Z",
     "start_time": "2024-10-07T08:29:30.525130600Z"
    }
   },
   "outputs": [],
   "source": [
    "from selenium import webdriver\n",
    "from selenium.common import StaleElementReferenceException\n",
    "from selenium.webdriver.chrome.service import Service\n",
    "import time\n",
    "from selenium.webdriver.common.by import By\n",
    "from selenium.webdriver.common.keys import Keys\n",
    "from selenium.webdriver.support.select import Select\n",
    "from selenium.webdriver.common.action_chains import ActionChains\n",
    "from selenium.webdriver.support.ui import WebDriverWait\n",
    "from selenium.webdriver.support import expected_conditions as EC\n",
    "import pandas as pd\n",
    "import datetime"
   ]
  },
  {
   "cell_type": "code",
   "execution_count": 4,
   "outputs": [
    {
     "name": "stdout",
     "output_type": "stream",
     "text": [
      "aqi-in\n",
      "aqi-us\n",
      "pm2.5\n",
      "pm10\n",
      "pm1\n",
      "so2\n",
      "no2\n",
      "nox\n",
      "co\n",
      "o3\n",
      "temp\n",
      "humidity\n"
     ]
    }
   ],
   "source": [
    "path = \"D:\\chromedriver-win64\\chromedriver.exe\"\n",
    "s = Service(path)\n",
    "driver = webdriver.Chrome(service=s)\n",
    "driver.get(\"https://www.aqi.in/dashboard/vietnam/da-nang,da-nang,da-nang,vietnam/da-nang\")\n",
    "time.sleep(2)\n",
    "\n",
    "item = driver.find_element(By.CSS_SELECTOR, \"div.calendar_id1\")\n",
    "driver.execute_script(\"arguments[0].scrollIntoView({block: 'center'})\", item)\n",
    "action = ActionChains(driver)\n",
    "indexes = driver.find_elements(By.XPATH, \"//*[@id='calendar_id']/div/div[1]/div[3]/div/div[1]/div[1]/ul/li\")\n",
    "list_indexes = {\"pm2.5\", \"pm10\", \"o3\", \"no2\", \"so2\", \"co\"}\n",
    "start_date = datetime.date(2021, 1, 1)\n",
    "end_date = datetime.date(2024, 10, 7)\n",
    "range_date = pd.date_range(start_date, end_date)\n",
    "data = {\"date_time\": range_date,\n",
    "        \"pm2.5\": [None] * len(range_date),\n",
    "        \"pm10\": [None] * len(range_date),\n",
    "        \"o3\": [None] * len(range_date),\n",
    "        \"no2\": [None] * len(range_date),\n",
    "        \"so2\": [None] * len(range_date),\n",
    "        \"co\": [None] * len(range_date)}\n",
    "df = pd.DataFrame(data)\n",
    "dict_month = {\"Jan\": 1, \"Feb\": 2, \"Mar\": 3, \"Apr\": 4, \"May\": 5, \"Jun\": 6,\n",
    "              \"Jul\": 7, \"Aug\": 8, \"Sep\": 9, \"Oct\": 10, \"Nov\": 11, \"Dec\": 12}\n",
    "for val in indexes:\n",
    "    time.sleep(2)\n",
    "    driver.find_element(By.XPATH, \"//*[@id='calendar_id']/div/div[1]/div[3]/div/div[1]/div\").click()\n",
    "    wait = WebDriverWait(driver, 3).until(EC.element_to_be_clickable(val))\n",
    "    val.click()\n",
    "    param = val.text.lower()\n",
    "    print(param)\n",
    "    if param not in list_indexes:\n",
    "        continue\n",
    "    years = driver.find_elements(By.XPATH, \"//*[@id='calendar_id']/div/div[1]/div[3]/div/div[2]/div/ul/li\")\n",
    "    for year in years:\n",
    "        driver.find_element(By.XPATH, \"//*[@id='calendar_id']/div/div[1]/div[3]/div/div[2]/div\").click()\n",
    "        WebDriverWait(driver, 3).until(EC.element_to_be_clickable(year))\n",
    "        year.click()\n",
    "        year_ = year.text\n",
    "        time.sleep(3)\n",
    "        search = driver.find_elements(By.CSS_SELECTOR, \"rect.day\")\n",
    "        for day in search:\n",
    "            tmp = day.text.split(': ')\n",
    "            if len(tmp) == 2:\n",
    "                date_time = f\"{tmp[0]}-{year_}\"[5:].split(\"-\")\n",
    "                dt = pd.Timestamp(year=int(date_time[2]), month=dict_month[date_time[1]], day=int(date_time[0]))\n",
    "                df.loc[df[\"date_time\"] == dt, param] = int(tmp[1])\n",
    "        time.sleep(2)\n",
    "time.sleep(3)\n",
    "driver.quit()"
   ],
   "metadata": {
    "collapsed": false,
    "ExecuteTime": {
     "end_time": "2024-10-07T08:33:09.096209600Z",
     "start_time": "2024-10-07T08:29:31.241719500Z"
    }
   },
   "id": "ca989d07531a6515"
  },
  {
   "cell_type": "code",
   "execution_count": 5,
   "outputs": [
    {
     "data": {
      "text/plain": "      date_time pm2.5  pm10    o3   no2   so2    co\n0    2021-01-01  None  None  None  None  None  None\n1    2021-01-02  None  None  None  None  None  None\n2    2021-01-03  None  None  None  None  None  None\n3    2021-01-04  None  None  None  None  None  None\n4    2021-01-05  None  None  None  None  None  None\n...         ...   ...   ...   ...   ...   ...   ...\n1371 2024-10-03     5    17  None    20    37   204\n1372 2024-10-04     9    28  None    20    38   182\n1373 2024-10-05    13    31  None    21    39   215\n1374 2024-10-06     7    21  None    20    38   217\n1375 2024-10-07  None  None  None  None  None  None\n\n[1376 rows x 7 columns]",
      "text/html": "<div>\n<style scoped>\n    .dataframe tbody tr th:only-of-type {\n        vertical-align: middle;\n    }\n\n    .dataframe tbody tr th {\n        vertical-align: top;\n    }\n\n    .dataframe thead th {\n        text-align: right;\n    }\n</style>\n<table border=\"1\" class=\"dataframe\">\n  <thead>\n    <tr style=\"text-align: right;\">\n      <th></th>\n      <th>date_time</th>\n      <th>pm2.5</th>\n      <th>pm10</th>\n      <th>o3</th>\n      <th>no2</th>\n      <th>so2</th>\n      <th>co</th>\n    </tr>\n  </thead>\n  <tbody>\n    <tr>\n      <th>0</th>\n      <td>2021-01-01</td>\n      <td>None</td>\n      <td>None</td>\n      <td>None</td>\n      <td>None</td>\n      <td>None</td>\n      <td>None</td>\n    </tr>\n    <tr>\n      <th>1</th>\n      <td>2021-01-02</td>\n      <td>None</td>\n      <td>None</td>\n      <td>None</td>\n      <td>None</td>\n      <td>None</td>\n      <td>None</td>\n    </tr>\n    <tr>\n      <th>2</th>\n      <td>2021-01-03</td>\n      <td>None</td>\n      <td>None</td>\n      <td>None</td>\n      <td>None</td>\n      <td>None</td>\n      <td>None</td>\n    </tr>\n    <tr>\n      <th>3</th>\n      <td>2021-01-04</td>\n      <td>None</td>\n      <td>None</td>\n      <td>None</td>\n      <td>None</td>\n      <td>None</td>\n      <td>None</td>\n    </tr>\n    <tr>\n      <th>4</th>\n      <td>2021-01-05</td>\n      <td>None</td>\n      <td>None</td>\n      <td>None</td>\n      <td>None</td>\n      <td>None</td>\n      <td>None</td>\n    </tr>\n    <tr>\n      <th>...</th>\n      <td>...</td>\n      <td>...</td>\n      <td>...</td>\n      <td>...</td>\n      <td>...</td>\n      <td>...</td>\n      <td>...</td>\n    </tr>\n    <tr>\n      <th>1371</th>\n      <td>2024-10-03</td>\n      <td>5</td>\n      <td>17</td>\n      <td>None</td>\n      <td>20</td>\n      <td>37</td>\n      <td>204</td>\n    </tr>\n    <tr>\n      <th>1372</th>\n      <td>2024-10-04</td>\n      <td>9</td>\n      <td>28</td>\n      <td>None</td>\n      <td>20</td>\n      <td>38</td>\n      <td>182</td>\n    </tr>\n    <tr>\n      <th>1373</th>\n      <td>2024-10-05</td>\n      <td>13</td>\n      <td>31</td>\n      <td>None</td>\n      <td>21</td>\n      <td>39</td>\n      <td>215</td>\n    </tr>\n    <tr>\n      <th>1374</th>\n      <td>2024-10-06</td>\n      <td>7</td>\n      <td>21</td>\n      <td>None</td>\n      <td>20</td>\n      <td>38</td>\n      <td>217</td>\n    </tr>\n    <tr>\n      <th>1375</th>\n      <td>2024-10-07</td>\n      <td>None</td>\n      <td>None</td>\n      <td>None</td>\n      <td>None</td>\n      <td>None</td>\n      <td>None</td>\n    </tr>\n  </tbody>\n</table>\n<p>1376 rows × 7 columns</p>\n</div>"
     },
     "execution_count": 5,
     "metadata": {},
     "output_type": "execute_result"
    }
   ],
   "source": [
    "df.to_csv(\"D://python//project_weather_air_pollution//add_air_data.csv\", index=False)\n",
    "df"
   ],
   "metadata": {
    "collapsed": false,
    "ExecuteTime": {
     "end_time": "2024-10-07T08:34:14.254831300Z",
     "start_time": "2024-10-07T08:34:14.124167500Z"
    }
   },
   "id": "1b6614a5de400586"
  },
  {
   "cell_type": "code",
   "execution_count": null,
   "outputs": [],
   "source": [],
   "metadata": {
    "collapsed": false
   },
   "id": "8ff4bdc90e1dafcf"
  }
 ],
 "metadata": {
  "kernelspec": {
   "display_name": "Python 3",
   "language": "python",
   "name": "python3"
  },
  "language_info": {
   "codemirror_mode": {
    "name": "ipython",
    "version": 2
   },
   "file_extension": ".py",
   "mimetype": "text/x-python",
   "name": "python",
   "nbconvert_exporter": "python",
   "pygments_lexer": "ipython2",
   "version": "2.7.6"
  }
 },
 "nbformat": 4,
 "nbformat_minor": 5
}
